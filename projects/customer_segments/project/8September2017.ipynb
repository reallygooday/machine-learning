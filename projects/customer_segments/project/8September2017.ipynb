{
 "cells": [
  {
   "cell_type": "markdown",
   "metadata": {},
   "source": [
    " # \"Creating Customer Segments\" \n",
    " \n",
    " ## Project Review \n",
    "   \n",
    " > Created on:\t8 September 2017"
   ]
  },
  {
   "cell_type": "markdown",
   "metadata": {},
   "source": [
    "### Data Exploration"
   ]
  },
  {
   "cell_type": "markdown",
   "metadata": {},
   "source": [
    "> Three separate samples of the data are chosen and their establishment representations are proposed based on the statistical description of the dataset.\n",
    " \n",
    "You could also visualize each sample in terms of the underlying features:"
   ]
  },
  {
   "cell_type": "code",
   "execution_count": null,
   "metadata": {
    "collapsed": true
   },
   "outputs": [],
   "source": [
    "centers = true_centers.copy()\n",
    "centers[true_centers.shape[0]] = data.median()\n",
    "\n",
    "plt.style.use('ggplot')\n",
    "centers.plot(kind='bar')\n",
    "labels = true_centers.index.values.tolist()\n",
    "labels.append(\"Data Median\")\n",
    "plt.xticks(range(true_centers.shape[0]),labels)"
   ]
  },
  {
   "cell_type": "markdown",
   "metadata": {},
   "source": [
    "A critical concept that is lying just beneath the surface with this project are the ideas of standardization and normalization.\n",
    "\n",
    "https://en.wikipedia.org/wiki/Normalization_(statistics)\n",
    "\n",
    "You can start thinking about this idea while looking at the samples, by applying a simple numpy transformation to the data:"
   ]
  },
  {
   "cell_type": "code",
   "execution_count": null,
   "metadata": {
    "collapsed": true
   },
   "outputs": [],
   "source": [
    "samples_sc = (samples - data.mean())/data.std()"
   ]
  },
  {
   "cell_type": "markdown",
   "metadata": {},
   "source": [
    "Note that this is ignoring the concept of degrees of freedom.\n",
    "\n",
    "Having performed the transformation, the values of the scaled samples represent the number of standard deviations from the mean of the dataset for each value. This allows you to compare \"apples\" to \"oranges\", that is, data collected on difference scales in a meaningful way."
   ]
  },
  {
   "cell_type": "markdown",
   "metadata": {},
   "source": [
    "> A prediction score for the removed feature is accurately reported. Justification is made for whether the removed feature is relevant."
   ]
  },
  {
   "cell_type": "markdown",
   "metadata": {},
   "source": [
    "Make sure you are clear that this test reveals that a feature may be unnecessary. The removal of a feature may fail to capture non-linear interactions!\n",
    "\n",
    "I used the code below to study all of the features over 100 randomly generated trials. Such an analysis can tell you a lot about the correlation between all of the features. Are there others with higher R^2 scores?"
   ]
  },
  {
   "cell_type": "code",
   "execution_count": null,
   "metadata": {
    "collapsed": true
   },
   "outputs": [],
   "source": [
    "from sklearn.cross_validation import train_test_split\n",
    "from sklearn.tree import DecisionTreeRegressor\n",
    "\n",
    "def calculate_r_2_for_feature(data,feature):\n",
    "    new_data = data.drop(feature, axis=1)\n",
    "\n",
    "    X_train, \\\n",
    "    X_test,  \\\n",
    "    y_train, \\\n",
    "    y_test = train_test_split(\n",
    "        new_data,data[feature],test_size=0.25\n",
    "    )\n",
    "\n",
    "    regressor = DecisionTreeRegressor()\n",
    "    regressor.fit(X_train,y_train)\n",
    "\n",
    "    score = regressor.score(X_test,y_test)\n",
    "    return score\n",
    "\n",
    "def r_2_mean(data,feature,runs=200):\n",
    "    return np.array([calculate_r_2_for_feature(data,feature)\n",
    "                     for _ in range(200) ]).mean().round(4)\n",
    "\n",
    "print \"{0:17} {1}\".format(\"Fresh: \", r_2_mean(data,'Fresh'))\n",
    "print \"{0:17} {1}\".format(\"Milk: \", r_2_mean(data,'Milk'))\n",
    "print \"{0:17} {1}\".format(\"Grocery: \", r_2_mean(data,'Grocery'))\n",
    "print \"{0:17} {1}\".format(\"Frozen: \", r_2_mean(data,'Frozen'))\n",
    "print \"{0:17} {1}\".format(\"Detergents_Paper: \", r_2_mean(data,'Detergents_Paper'))\n",
    "print \"{0:17} {1}\".format(\"Delicatessen: \", r_2_mean(data,'Delicatessen'))"
   ]
  },
  {
   "cell_type": "markdown",
   "metadata": {},
   "source": [
    "> Student identifies features that are correlated and compares these features to the predicted feature. Student further discusses the data distribution for those features."
   ]
  },
  {
   "cell_type": "markdown",
   "metadata": {},
   "source": [
    "Strong correlations can be connected back to the R^2 from the previous analysis.\n",
    "\n",
    "A negative R^2 implies that the corresponding feature cannot be estimated by a linear combination of all other features, that is that it is uncorrelated with any other features, thus making it important for predicting customer behavior. A positive R^2 implies that the corresponding feature is correlated that is that it is linearly dependent with the other features and possibly not important.\n",
    "\n",
    "I used this to visualize correlations:"
   ]
  },
  {
   "cell_type": "code",
   "execution_count": null,
   "metadata": {
    "collapsed": true
   },
   "outputs": [],
   "source": [
    "corr = data.corr()\n",
    "mask = np.zeros_like(corr)\n",
    "mask[np.triu_indices_from(mask, 1)] = True\n",
    "with sns.axes_style(\"white\"):\n",
    "    ax = sns.heatmap(corr, mask=mask, square=True, annot=True,\n",
    "                     cmap='RdBu', fmt='+.3f')\n",
    "    plt.xticks(rotation=45, ha='center')"
   ]
  },
  {
   "cell_type": "markdown",
   "metadata": {},
   "source": [
    "Understanding the distribution of data is critical. A normal distribution is critical for a well behaving principal component analysis."
   ]
  },
  {
   "cell_type": "markdown",
   "metadata": {},
   "source": [
    "## Data Preprocessing"
   ]
  },
  {
   "cell_type": "markdown",
   "metadata": {},
   "source": [
    ">Feature scaling for both the data and the sample data has been properly implemented in code."
   ]
  },
  {
   "cell_type": "markdown",
   "metadata": {},
   "source": [
    "This helped me to see the distribution of data before and after scaling:"
   ]
  },
  {
   "cell_type": "code",
   "execution_count": null,
   "metadata": {
    "collapsed": true
   },
   "outputs": [],
   "source": [
    "fig, axes = plt.subplots(2, 3)\n",
    "axes = axes.flatten()\n",
    "fig.set_size_inches(18, 6)\n",
    "fig.suptitle('Distribution of Features')\n",
    "\n",
    "for i, col in enumerate(data.columns):\n",
    "    feature = data[col]\n",
    "    sns.distplot(feature, label=col, ax=axes[i]).set(xlim=(-1000, 20000),)\n",
    "    axes[i].axvline(feature.mean(),linewidth=1)\n",
    "    axes[i].axvline(feature.median(),linewidth=1, color='r')"
   ]
  },
  {
   "cell_type": "markdown",
   "metadata": {},
   "source": [
    "In this plot, we can actually see the distribution. We can see that most of the features are log-normal, that is, they have a distribution such that their logarithm has a normal distribution. This implies that we can achieve a normal distribution for our data simply by taking the logarithm of the data.\n",
    "\n",
    "After preparing the log data, we can look at the distribution again:"
   ]
  },
  {
   "cell_type": "code",
   "execution_count": null,
   "metadata": {
    "collapsed": true
   },
   "outputs": [],
   "source": [
    "fig, axes = plt.subplots(2, 3)\n",
    "axes = axes.flatten()\n",
    "fig.set_size_inches(18, 6)\n",
    "fig.suptitle('Distribution of Features for Log Data')\n",
    "\n",
    "for i, col in enumerate(log_data.columns):\n",
    "    feature = log_data[col]\n",
    "    sns.distplot(feature, label=col, ax=axes[i])\n",
    "    axes[i].axvline(feature.mean(),linewidth=1)\n",
    "    axes[i].axvline(feature.median(),linewidth=1, color='r')"
   ]
  },
  {
   "cell_type": "markdown",
   "metadata": {},
   "source": [
    "From these you can think about skewness in data:"
   ]
  },
  {
   "attachments": {
    "pearson-mode-skewness.jpg": {
     "image/jpeg": "[encoded data removed]"
    }
   },
   "cell_type": "markdown",
   "metadata": {},
   "source": [
    "![pearson-mode-skewness.jpg](attachment:pearson-mode-skewness.jpg)"
   ]
  },
  {
   "cell_type": "markdown",
   "metadata": {},
   "source": [
    "To compare the log-transformed feature distributions, you can also plot them on top of each other with a seaborn KDE plot..."
   ]
  },
  {
   "cell_type": "code",
   "execution_count": null,
   "metadata": {
    "collapsed": true
   },
   "outputs": [],
   "source": [
    "import matplotlib.pyplot as plt\n",
    "import seaborn as sns\n",
    "# set plot style & color scheme\n",
    "sns.set_style('ticks')\n",
    "with sns.color_palette(\"Reds_r\"):\n",
    "    # plot densities of log data\n",
    "    plt.figure(figsize=(8,4))\n",
    "    for col in data.columns:\n",
    "        sns.kdeplot(log_data[col], shade=True)\n",
    "    plt.legend(loc='best')"
   ]
  },
  {
   "cell_type": "markdown",
   "metadata": {},
   "source": [
    "Perhaps most importantly, by taking the log of the data, we have actually placed the data on similar scales. This will be critical when we perform our principal component analysis.\n",
    "\n"
   ]
  },
  {
   "cell_type": "markdown",
   "metadata": {},
   "source": [
    "> NEXT LEVEL SUGGESTION"
   ]
  },
  {
   "cell_type": "markdown",
   "metadata": {},
   "source": [
    "Strictly speaking, a principal component analysis assumes that data has a mean of zero and a variance of 1. If you think about it, the PCA is completely based upon the variance and co-variance in the data. This requires that the data can be completely described using the variance and co-variance i.e. that the mean is zero. We need to have the variance of each feature set to 1 so that no feature comes to dominate the PCA. To achieve this you can scale the log_data."
   ]
  },
  {
   "cell_type": "code",
   "execution_count": null,
   "metadata": {
    "collapsed": true
   },
   "outputs": [],
   "source": [
    "from sklearn.preprocessing import StandardScaler\n",
    "\n",
    "scaler = StandardScaler()\n",
    "scaler.fit(log_data)\n",
    "\n",
    "log_data = scaler.transform(log_data)\n",
    "log_samples = scaler.transform(log_samples)"
   ]
  },
  {
   "cell_type": "markdown",
   "metadata": {},
   "source": [
    "If you do this, you will need to apply the following to transform your data back in Implementation: Data Recovery."
   ]
  },
  {
   "cell_type": "code",
   "execution_count": null,
   "metadata": {
    "collapsed": true
   },
   "outputs": [],
   "source": [
    "# TODO: Inverse transform the centers\n",
    "log_centers = pca.inverse_transform(centers)\n",
    "\n",
    "# TODO: Exponentiate the centers\n",
    "true_centers = scaler.inverse_transform(log_centers)\n",
    "true_centers = np.exp(true_centers)\n",
    "\n",
    "# Display the true centers\n",
    "segments = ['Segment {}'.format(i) for i in range(0,len(centers))]\n",
    "true_centers = pd.DataFrame(np.round(true_centers), columns = data.keys())\n",
    "true_centers.index = segments\n",
    "display(true_centers)"
   ]
  },
  {
   "cell_type": "markdown",
   "metadata": {},
   "source": [
    "> Student identifies extreme outliers and discusses whether the outliers should be removed. Justification is made for any data points removed."
   ]
  },
  {
   "cell_type": "markdown",
   "metadata": {},
   "source": [
    "Some helpful links on outliers:\n",
    "\n",
    "http://www.theanalysisfactor.com/outliers-to-drop-or-not-to-drop/\n",
    "http://graphpad.com/guides/prism/6/statistics/index.htm?stat_checklist_identifying_outliers.htm\n",
    "\n",
    "You can also find the double counted outliers programatically using a Counter:"
   ]
  },
  {
   "cell_type": "code",
   "execution_count": null,
   "metadata": {
    "collapsed": true
   },
   "outputs": [],
   "source": [
    "from collections import Counter"
   ]
  },
  {
   "cell_type": "markdown",
   "metadata": {},
   "source": [
    "## Feature Transformation"
   ]
  },
  {
   "cell_type": "markdown",
   "metadata": {},
   "source": [
    "> The total variance explained for two and four dimensions of the data from PCA is accurately reported. The first four dimensions are interpreted as a representation of customer spending with justification."
   ]
  },
  {
   "cell_type": "markdown",
   "metadata": {},
   "source": [
    "A principal component is an engineered feature made from the original features. The first dimension has 4 features correlated together and to features correlated in the other direction. The sign of the features can not be interpreted. The signs are actually reversible, and if you run it multiple times on your computer you may have noticed this. Have a look at\n",
    "http://stats.stackexchange.com/questions/30348/is-it-acceptable-to-reverse-a-sign-of-a-principal-component-scorecorrelated\n",
    "What we are looking for here is the largest absolute value magnitude features. These are the features that are most heavily represented.\n",
    "\n",
    "Further reading:\n",
    "You can read more about how to interpret the dimensions here:\n",
    "\n",
    "https://onlinecourses.science.psu.edu/stat505/node/54\n",
    "http://setosa.io/ev/principal-component-analysis/\n",
    "https://stats.stackexchange.com/questions/2691/making-sense-of-principal-component-analysis-eigenvectors-eigenvalues\n",
    "https://www.quora.com/What-is-an-intuitive-explanation-for-PCA\n",
    "I used this to show the cumulative variance:"
   ]
  },
  {
   "cell_type": "code",
   "execution_count": null,
   "metadata": {
    "collapsed": true
   },
   "outputs": [],
   "source": [
    "# create an x-axis variable for each pca component\n",
    "x = np.arange(1,7)\n",
    "\n",
    "# plot the cumulative variance\n",
    "plt.plot(x, np.cumsum(pca.explained_variance_ratio_), '-o', color='black')\n",
    "\n",
    "# plot the components' variance\n",
    "plt.bar(x, pca.explained_variance_ratio_, align='center', alpha=0.5)\n",
    "\n",
    "# plot styling\n",
    "plt.ylim(0, 1.05)\n",
    "plt.annotate('Cumulative\\nexplained\\nvariance',\n",
    "             xy=(3.7, .88), arrowprops=dict(arrowstyle='->'), xytext=(4.5, .6))\n",
    "for i,j in zip(x, np.cumsum(pca.explained_variance_ratio_)):\n",
    "    plt.annotate(str(j.round(4)),xy=(i+.2,j-.02))\n",
    "plt.xticks(range(1,7))\n",
    "plt.xlabel('PCA components')\n",
    "plt.ylabel('Explained Variance')\n",
    "plt.show()"
   ]
  },
  {
   "cell_type": "markdown",
   "metadata": {},
   "source": [
    "If you really want to understand PCA, I recommend MIT's 1806 course, especially eigenvalues and vectors:\n",
    "\n",
    "https://ocw.mit.edu/courses/mathematics/18-06-linear-algebra-spring-2010/index.htm"
   ]
  },
  {
   "cell_type": "markdown",
   "metadata": {},
   "source": [
    "> PCA has been properly implemented and applied to both the scaled data and scaled sample data for the two-dimensional case in code."
   ]
  },
  {
   "cell_type": "markdown",
   "metadata": {},
   "source": [
    "## Clustering"
   ]
  },
  {
   "cell_type": "markdown",
   "metadata": {},
   "source": [
    "> The Gaussian Mixture Model and K-Means algorithms have been compared in detail. Student’s choice of algorithm is justified based on the characteristics of the algorithm and data."
   ]
  },
  {
   "cell_type": "markdown",
   "metadata": {},
   "source": [
    "Some helpful links:\n",
    "\n",
    "http://home.deib.polimi.it/matteucc/Clustering/tutorial_html/mixture.html\n",
    "http://www.nickgillian.com/wiki/pmwiki.php/GRT/GMMClassifier\n",
    "http://playwidtech.blogspot.hk/2013/02/k-means-clustering-advantages-and.html\n",
    "http://www.improvedoutcomes.com/docs/WebSiteDocs/Clustering/K-Means_Clustering_Overview.htm\n",
    "http://stats.stackexchange.com/questions/133656/how-to-understand-the-drawbacks-of-k-means\n",
    "http://www.r-bloggers.com/k-means-clustering-is-not-a-free-lunch/\n",
    "http://www.r-bloggers.com/pca-and-k-means-clustering-of-delta-aircraft/\n",
    "https://shapeofdata.wordpress.com/2013/07/30/k-means/\n",
    "http://mlg.eng.cam.ac.uk/tutorials/06/cb.pdf\n",
    "https://www.quora.com/What-is-the-difference-between-K-means-and-the-mixture-model-of-Gaussian"
   ]
  },
  {
   "cell_type": "markdown",
   "metadata": {},
   "source": [
    "> Several silhouette scores are accurately reported, and the optimal number of clusters is chosen based on the best reported score. The cluster visualization provided produces the optimal number of clusters based on the clustering algorithm chosen."
   ]
  },
  {
   "cell_type": "markdown",
   "metadata": {},
   "source": [
    "Suggestion:\n",
    "The choice of outliers is very important for the silhouette scores of your outliers. What if you ran your analysis again, this time without removing any outliers? How would the number of clusters and silhouette scores vary?"
   ]
  },
  {
   "cell_type": "markdown",
   "metadata": {},
   "source": [
    "> The establishments represented by each customer segment are proposed based on the statistical description of the dataset. The inverse transformation and inverse scaling has been properly implemented and applied to the cluster centers in code."
   ]
  },
  {
   "cell_type": "markdown",
   "metadata": {},
   "source": [
    "You could also visualize each segment in terms of the underlying features:"
   ]
  },
  {
   "cell_type": "code",
   "execution_count": null,
   "metadata": {
    "collapsed": true
   },
   "outputs": [],
   "source": [
    "centers = true_centers.copy()\n",
    "centers.loc[centers.shape[0]] = data.median()\n",
    "centers.loc[centers.shape[0]] = data.mean()\n",
    "\n",
    "plt.style.use('ggplot')\n",
    "centers.plot(kind='bar')\n",
    "labels = true_centers.index.values.tolist()\n",
    "labels.append(\"Data Median\")\n",
    "labels.append(\"Data Mean\")\n",
    "plt.xticks(range(centers.shape[0]+1),labels)"
   ]
  },
  {
   "cell_type": "markdown",
   "metadata": {},
   "source": [
    "> Sample points are correctly identified by customer segment, and the predicted cluster for each sample point is discussed."
   ]
  },
  {
   "cell_type": "markdown",
   "metadata": {},
   "source": [
    "## Conclusion"
   ]
  },
  {
   "cell_type": "markdown",
   "metadata": {},
   "source": [
    "> Student correctly identifies how an A/B test can be performed on customers after a change in the wholesale distributor’s service."
   ]
  },
  {
   "cell_type": "markdown",
   "metadata": {},
   "source": [
    "You might think about the power of the change:\n",
    "\n",
    "Power. I've seen a lot of people say things like \"oh, that A/B test was neutral, but we should launch it anyways because we think it will be good for the user.\" I think that's fine if the A/B test is well-run, but I've seen many cases where the reason the A/B test is neutral is because it doesn't have sufficient power (e.g., even a 50% drop in metrics wouldn't have been statistically significant). In the long-term, the supposedly \"neutral\" experiment might actually lead to a 30% drop in revenue\n",
    "\n",
    "https://www.quora.com/When-should-A-B-testing-not-be-trusted-to-make-decisions/answer/Edwin-Chen-1"
   ]
  },
  {
   "cell_type": "markdown",
   "metadata": {},
   "source": [
    "> Student discusses with justification how the clustering data can be used in a supervised learner for new predictions."
   ]
  },
  {
   "cell_type": "markdown",
   "metadata": {},
   "source": [
    "Here is an online discussion about using unsupervised learning to generate a target: https://datascience.stackexchange.com/questions/985/can-i-use-unsupervised-learning-followed-by-supervised-learning"
   ]
  },
  {
   "cell_type": "markdown",
   "metadata": {},
   "source": [
    "> Comparison is made between customer segments and customer ‘Channel’ data. Discussion of customer segments being identified by ‘Channel’ data is provided, including whether this representation is consistent with previous results."
   ]
  }
 ],
 "metadata": {
  "kernelspec": {
   "display_name": "Python 2",
   "language": "python",
   "name": "python2"
  },
  "language_info": {
   "codemirror_mode": {
    "name": "ipython",
    "version": 2
   },
   "file_extension": ".py",
   "mimetype": "text/x-python",
   "name": "python",
   "nbconvert_exporter": "python",
   "pygments_lexer": "ipython2",
   "version": "2.7.13"
  }
 },
 "nbformat": 4,
 "nbformat_minor": 2
}
